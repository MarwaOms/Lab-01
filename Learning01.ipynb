{
 "cells": [
  {
   "cell_type": "markdown",
   "id": "0b35bcb7-6d36-456b-8ba8-7bd052167d9f",
   "metadata": {},
   "source": [
    "Learn how to code in python"
   ]
  },
  {
   "cell_type": "code",
   "execution_count": 1,
   "id": "2dd7bf6d",
   "metadata": {},
   "outputs": [],
   "source": [
    "import numpy as np\n"
   ]
  },
  {
   "cell_type": "code",
   "execution_count": 28,
   "id": "66c78702",
   "metadata": {},
   "outputs": [
    {
     "name": "stdout",
     "output_type": "stream",
     "text": [
      "[34.64101615137755, 17.320508075688775, 0.0]\n"
     ]
    }
   ],
   "source": [
    "list1 = [[1, 2, 3],[1,2,3],[1,2,3]]\n",
    "list2 = [[10,20,30],[20,30,40],[30,40,50]]\n",
    "v1 = np.array(list1)\n",
    "v2 = np.array(list2)\n",
    "def distance (a,b):\n",
    "    return sum((p-q)**2 for p,q in zip (a,b))**0.5\n",
    "c=[]\n",
    "for i in v2:\n",
    "    d=[distance(i,j) \n",
    "      for j in v2]\n",
    "    c.append(d)\n",
    "print(d)"
   ]
  },
  {
   "cell_type": "code",
   "execution_count": 24,
   "id": "22621296",
   "metadata": {},
   "outputs": [
    {
     "name": "stdout",
     "output_type": "stream",
     "text": [
      "[[ 0.         17.32050808 34.64101615]\n",
      " [17.32050808  0.         17.32050808]\n",
      " [34.64101615 17.32050808  0.        ]]\n"
     ]
    }
   ],
   "source": [
    "list1 = [[1, 2, 3],[1,2,3],[1,2,3]]\n",
    "list2 = [[10,20,30],[20,30,40],[30,40,50]]\n",
    "v1 = np.array(list1)\n",
    "v2 = np.array(list2)\n",
    "def dist (a,b):\n",
    " return np.array([[np.linalg.norm(i-j)\n",
    "                  for j in b]\n",
    "                 for i in b])\n",
    "print (dist(v1,v2))\n"
   ]
  },
  {
   "cell_type": "code",
   "execution_count": 29,
   "id": "c6d0a8de",
   "metadata": {},
   "outputs": [
    {
     "name": "stdout",
     "output_type": "stream",
     "text": [
      "77.7 µs ± 0 ns per loop (mean ± std. dev. of 1 run, 1 loop each)\n",
      "379 µs ± 39.1 µs per loop (mean ± std. dev. of 2 runs, 2 loops each)\n"
     ]
    }
   ],
   "source": [
    "import numpy as np\n",
    "\n",
    "# N=300 samples, whose dimensions are d=784 \n",
    "X = np.random.normal(size=(300,784))\n",
    "\n",
    "%timeit -n1 -r1  distance (v1,v2)\n",
    "%timeit -n2 -r2  dist (v1,v2)"
   ]
  }
 ],
 "metadata": {
  "kernelspec": {
   "display_name": "Python 3 (ipykernel)",
   "language": "python",
   "name": "python3"
  },
  "language_info": {
   "codemirror_mode": {
    "name": "ipython",
    "version": 3
   },
   "file_extension": ".py",
   "mimetype": "text/x-python",
   "name": "python",
   "nbconvert_exporter": "python",
   "pygments_lexer": "ipython3",
   "version": "3.9.12"
  }
 },
 "nbformat": 4,
 "nbformat_minor": 5
}
